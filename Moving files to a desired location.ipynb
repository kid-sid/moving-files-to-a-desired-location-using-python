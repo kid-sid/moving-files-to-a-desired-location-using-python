{
 "cells": [
  {
   "cell_type": "code",
   "execution_count": 16,
   "metadata": {},
   "outputs": [],
   "source": [
    "# http://www.dabeaz.com/generators-uk/index.html\n",
    "# https://stackoverflow.com/questions/8155060/moving-specific-files-in-subdirectories-into-a-directory-python\n",
    "\n",
    "import os\n",
    "import shutil\n",
    "import fnmatch\n",
    "\n",
    "def gen_find(file_extn,top):\n",
    "    for path, dirlist, filelist in os.walk(top):\n",
    "        for name in fnmatch.filter(filelist,file_extn):\n",
    "            yield os.path.join(path,name)\n",
    "\n",
    "# Example use\n",
    "\n",
    "if __name__ == '__main__':\n",
    "    source = r'E:\\File handling\\x\\testing2'      # input\n",
    "    destination = r'E:\\File handling\\x\\testing3' # desired     location\n",
    "\n",
    "    filesToMove = gen_find(\"*.xlsx\",source)\n",
    "    for name in filesToMove:\n",
    "        shutil.move(name, destination)"
   ]
  },
  {
   "cell_type": "code",
   "execution_count": null,
   "metadata": {},
   "outputs": [],
   "source": []
  }
 ],
 "metadata": {
  "kernelspec": {
   "display_name": "Python 3",
   "language": "python",
   "name": "python3"
  },
  "language_info": {
   "codemirror_mode": {
    "name": "ipython",
    "version": 3
   },
   "file_extension": ".py",
   "mimetype": "text/x-python",
   "name": "python",
   "nbconvert_exporter": "python",
   "pygments_lexer": "ipython3",
   "version": "3.7.6"
  }
 },
 "nbformat": 4,
 "nbformat_minor": 4
}
